{
 "cells": [
  {
   "cell_type": "markdown",
   "metadata": {},
   "source": [
    "# <font color='green'>WORDLE-VISION!</font>\n",
    "# Updated with <em>New York Times</em> official word list"
   ]
  },
  {
   "cell_type": "code",
   "execution_count": 1,
   "metadata": {},
   "outputs": [],
   "source": [
    "from urllib.request import urlopen\n",
    "from collections import Counter\n",
    "import numpy as np\n",
    "import seaborn as sns\n",
    "import matplotlib.pyplot as plt"
   ]
  },
  {
   "cell_type": "markdown",
   "metadata": {},
   "source": [
    "## Read in list of possible solutions"
   ]
  },
  {
   "cell_type": "code",
   "execution_count": 2,
   "metadata": {},
   "outputs": [
    {
     "name": "stdout",
     "output_type": "stream",
     "text": [
      "There are 2309 possible Wordle solutions.\n"
     ]
    }
   ],
   "source": [
    "url = 'https://static.nytimes.com/newsgraphics/2022/01/25/wordle-solver/assets/solutions.txt' # NYT solutions list\n",
    "file = urlopen(url)\n",
    "solutions = set(file.read().decode('utf-8').split())\n",
    "\n",
    "### Or if you have a word file already on your computer, you can read it in as follows:\n",
    "# local_file = 'solutions.txt'\n",
    "# with open(local_file) as word_file:\n",
    "#     solutions = set(word_file.read().split())\n",
    "\n",
    "print(f\"There are {len(solutions)} possible Wordle solutions.\")"
   ]
  },
  {
   "cell_type": "markdown",
   "metadata": {},
   "source": [
    "## Remove previous Wordle solutions from the analysis"
   ]
  },
  {
   "cell_type": "code",
   "execution_count": 3,
   "metadata": {},
   "outputs": [
    {
     "name": "stdout",
     "output_type": "stream",
     "text": [
      "There are 315 previous Wordle solutions (as of 29 Apr 2022).\n"
     ]
    }
   ],
   "source": [
    "previous_file = './previous_wordle_solutions_314.txt' # file containing the previous Wordle solutions (0 - 314)\n",
    "with open(previous_file) as word_file:\n",
    "    previous = set(word_file.read().split())\n",
    "    \n",
    "print(f\"There are {len(previous)} previous Wordle solutions (as of 29 Apr 2022).\")"
   ]
  },
  {
   "cell_type": "code",
   "execution_count": 4,
   "metadata": {},
   "outputs": [
    {
     "name": "stdout",
     "output_type": "stream",
     "text": [
      "There are 1994 future Wordle solutions.\n"
     ]
    }
   ],
   "source": [
    "future_solutions = solutions - previous\n",
    "print(f\"There are {len(future_solutions)} future Wordle solutions.\")"
   ]
  },
  {
   "cell_type": "code",
   "execution_count": 5,
   "metadata": {},
   "outputs": [
    {
     "data": {
      "text/plain": [
       "['UNTIE',\n",
       " 'SWAMP',\n",
       " 'FLOAT',\n",
       " 'WAGON',\n",
       " 'GROAN',\n",
       " 'TAPER',\n",
       " 'STARK',\n",
       " 'SKIRT',\n",
       " 'SNAIL',\n",
       " 'TUBAL']"
      ]
     },
     "execution_count": 5,
     "metadata": {},
     "output_type": "execute_result"
    }
   ],
   "source": [
    "# Convert future solutions to upper case list\n",
    "future_solutions = [i.upper() for i in future_solutions]\n",
    "future_solutions[0:10]"
   ]
  },
  {
   "cell_type": "markdown",
   "metadata": {},
   "source": [
    "## Get frequency distribution of letters"
   ]
  },
  {
   "cell_type": "code",
   "execution_count": 6,
   "metadata": {},
   "outputs": [
    {
     "data": {
      "text/plain": [
       "Counter({'U': 406,\n",
       "         'N': 510,\n",
       "         'T': 624,\n",
       "         'I': 587,\n",
       "         'E': 1069,\n",
       "         'S': 580,\n",
       "         'W': 168,\n",
       "         'A': 836,\n",
       "         'M': 274,\n",
       "         'P': 315,\n",
       "         'F': 197,\n",
       "         'L': 623,\n",
       "         'O': 636,\n",
       "         'G': 270,\n",
       "         'R': 758,\n",
       "         'K': 179,\n",
       "         'B': 239,\n",
       "         'H': 326,\n",
       "         'C': 404,\n",
       "         'Y': 377,\n",
       "         'V': 135,\n",
       "         'D': 342,\n",
       "         'Z': 35,\n",
       "         'Q': 26,\n",
       "         'X': 30,\n",
       "         'J': 24})"
      ]
     },
     "execution_count": 6,
     "metadata": {},
     "output_type": "execute_result"
    }
   ],
   "source": [
    "cnt = Counter()\n",
    "for i in future_solutions:\n",
    "    cnt.update(Counter(i))\n",
    "cnt"
   ]
  },
  {
   "cell_type": "code",
   "execution_count": 7,
   "metadata": {},
   "outputs": [
    {
     "data": {
      "text/plain": [
       "{'E': 1069,\n",
       " 'A': 836,\n",
       " 'R': 758,\n",
       " 'O': 636,\n",
       " 'T': 624,\n",
       " 'L': 623,\n",
       " 'I': 587,\n",
       " 'S': 580,\n",
       " 'N': 510,\n",
       " 'U': 406,\n",
       " 'C': 404,\n",
       " 'Y': 377,\n",
       " 'D': 342,\n",
       " 'H': 326,\n",
       " 'P': 315,\n",
       " 'M': 274,\n",
       " 'G': 270,\n",
       " 'B': 239,\n",
       " 'F': 197,\n",
       " 'K': 179,\n",
       " 'W': 168,\n",
       " 'V': 135,\n",
       " 'Z': 35,\n",
       " 'X': 30,\n",
       " 'Q': 26,\n",
       " 'J': 24}"
      ]
     },
     "execution_count": 7,
     "metadata": {},
     "output_type": "execute_result"
    }
   ],
   "source": [
    "cnt_sorted = dict(cnt.most_common())\n",
    "cnt_sorted"
   ]
  },
  {
   "cell_type": "code",
   "execution_count": 8,
   "metadata": {},
   "outputs": [
    {
     "data": {
      "text/plain": [
       "{'E': 0.1072,\n",
       " 'A': 0.0839,\n",
       " 'R': 0.076,\n",
       " 'O': 0.0638,\n",
       " 'T': 0.0626,\n",
       " 'L': 0.0625,\n",
       " 'I': 0.0589,\n",
       " 'S': 0.0582,\n",
       " 'N': 0.0512,\n",
       " 'U': 0.0407,\n",
       " 'C': 0.0405,\n",
       " 'Y': 0.0378,\n",
       " 'D': 0.0343,\n",
       " 'H': 0.0327,\n",
       " 'P': 0.0316,\n",
       " 'M': 0.0275,\n",
       " 'G': 0.0271,\n",
       " 'B': 0.024,\n",
       " 'F': 0.0198,\n",
       " 'K': 0.018,\n",
       " 'W': 0.0169,\n",
       " 'V': 0.0135,\n",
       " 'Z': 0.0035,\n",
       " 'X': 0.003,\n",
       " 'Q': 0.0026,\n",
       " 'J': 0.0024}"
      ]
     },
     "execution_count": 8,
     "metadata": {},
     "output_type": "execute_result"
    }
   ],
   "source": [
    "freq_sorted = {k: round(v / (5*len(future_solutions)), 4) for k, v in cnt_sorted.items()}\n",
    "freq_sorted"
   ]
  },
  {
   "cell_type": "code",
   "execution_count": 9,
   "metadata": {},
   "outputs": [],
   "source": [
    "sorted_keys = list(freq_sorted.keys())\n",
    "sorted_vals = list(freq_sorted.values())"
   ]
  },
  {
   "cell_type": "code",
   "execution_count": 10,
   "metadata": {},
   "outputs": [
    {
     "data": {
      "image/png": "[encoded data removed]",
      "text/plain": [
       "<Figure size 720x288 with 1 Axes>"
      ]
     },
     "metadata": {
      "needs_background": "light"
     },
     "output_type": "display_data"
    }
   ],
   "source": [
    "fig = plt.figure(figsize=(10, 4))\n",
    "sns.set(style='whitegrid')\n",
    "sns.barplot(x=sorted_keys, y=sorted_vals, color='tab:green')\n",
    "plt.ylabel('Frequency of Appearance')\n",
    "fig.savefig('letter_freq_nyt.png', dpi=200)"
   ]
  },
  {
   "cell_type": "markdown",
   "metadata": {},
   "source": [
    "### The top 10 letters are the same as I found in my previous analysis, just with different frequencies"
   ]
  },
  {
   "cell_type": "code",
   "execution_count": 11,
   "metadata": {},
   "outputs": [
    {
     "data": {
      "image/png": "[encoded data removed]",
      "text/plain": [
       "<Figure size 720x360 with 1 Axes>"
      ]
     },
     "metadata": {},
     "output_type": "display_data"
    }
   ],
   "source": [
    "# As in the previous analysis, the top 7 letters account for more than half of letters among Wordle solutions\n",
    "# Furthermore, the top 10 letters account for about 2/3 of all letters among Wordle solutions\n",
    "\n",
    "fig = plt.figure(figsize=(10, 5))\n",
    "sns.set(style='whitegrid')\n",
    "sns.barplot(x=sorted_keys, y=np.cumsum(sorted_vals), color='tab:green')\n",
    "plt.yticks(np.arange(0, 1.1, 0.1))\n",
    "plt.axhline(y=0.5, ls='--', lw=4, c='gold', alpha=0.75)\n",
    "plt.axhline(y=2/3, ls='--', lw=4, c='blue', alpha=0.75)\n",
    "plt.ylabel('Cumulative Frequency of Appearance')\n",
    "fig.savefig('letter_freq_cumulative_nyt.png', dpi=200)"
   ]
  },
  {
   "cell_type": "markdown",
   "metadata": {},
   "source": [
    "## Find words that contain only the top 7 letters\n",
    "### These will be the best starting guesses"
   ]
  },
  {
   "cell_type": "code",
   "execution_count": 12,
   "metadata": {
    "scrolled": true
   },
   "outputs": [
    {
     "name": "stdout",
     "output_type": "stream",
     "text": [
      "There are 27 words containing only the top 7 letters.\n"
     ]
    }
   ],
   "source": [
    "top_7_letters = ''.join(sorted_keys[0:7])\n",
    "top_7_letter_words = []\n",
    "\n",
    "for i in future_solutions:\n",
    "    is_best = all(x in top_7_letters for x in i)\n",
    "    if is_best:\n",
    "        top_7_letter_words.append(i)\n",
    "top_7_letter_words.sort()\n",
    "print(f\"There are {len(top_7_letter_words)} words containing only the top 7 letters.\")"
   ]
  },
  {
   "cell_type": "code",
   "execution_count": 13,
   "metadata": {},
   "outputs": [
    {
     "data": {
      "text/plain": [
       "['ALERT',\n",
       " 'ALLOT',\n",
       " 'ALTER',\n",
       " 'AORTA',\n",
       " 'ATOLL',\n",
       " 'EATER',\n",
       " 'EERIE',\n",
       " 'ELATE',\n",
       " 'ELITE',\n",
       " 'IRATE',\n",
       " 'LATER',\n",
       " 'LATTE',\n",
       " 'OTTER',\n",
       " 'RARER',\n",
       " 'RATIO',\n",
       " 'RETRO',\n",
       " 'ROTOR',\n",
       " 'TAROT',\n",
       " 'TERRA',\n",
       " 'TIARA',\n",
       " 'TITLE',\n",
       " 'TOTAL',\n",
       " 'TRAIL',\n",
       " 'TRAIT',\n",
       " 'TREAT',\n",
       " 'TRIAL',\n",
       " 'TRITE']"
      ]
     },
     "execution_count": 13,
     "metadata": {},
     "output_type": "execute_result"
    }
   ],
   "source": [
    "top_7_letter_words"
   ]
  },
  {
   "cell_type": "markdown",
   "metadata": {},
   "source": [
    "## We can further refine this by requiring that each letter be different"
   ]
  },
  {
   "cell_type": "code",
   "execution_count": 14,
   "metadata": {},
   "outputs": [
    {
     "name": "stdout",
     "output_type": "stream",
     "text": [
      "There are 7 words containing only the top 7 letters where each letter is different.\n"
     ]
    }
   ],
   "source": [
    "best_guesses_top_7_letters = []\n",
    "\n",
    "for i in top_7_letter_words:\n",
    "    num_uniq_letters = len(set(i))\n",
    "    if num_uniq_letters == 5:\n",
    "        best_guesses_top_7_letters.append(i)\n",
    "print(f\"There are {len(best_guesses_top_7_letters)} words \\\n",
    "containing only the top 7 letters where each letter is different.\")"
   ]
  },
  {
   "cell_type": "code",
   "execution_count": 15,
   "metadata": {},
   "outputs": [
    {
     "data": {
      "text/plain": [
       "['ALERT', 'ALTER', 'IRATE', 'LATER', 'RATIO', 'TRAIL', 'TRIAL']"
      ]
     },
     "execution_count": 15,
     "metadata": {},
     "output_type": "execute_result"
    }
   ],
   "source": [
    "best_guesses_top_7_letters"
   ]
  },
  {
   "cell_type": "markdown",
   "metadata": {},
   "source": [
    "## Find best pairs of words that use the top 10 letters without repeat letters\n",
    "### For example: (AROSE, UNTIL)"
   ]
  },
  {
   "cell_type": "code",
   "execution_count": 16,
   "metadata": {
    "scrolled": true
   },
   "outputs": [
    {
     "name": "stdout",
     "output_type": "stream",
     "text": [
      "There are 148 words containing only the top 10 letters.\n"
     ]
    }
   ],
   "source": [
    "top_10_letters = ''.join(sorted_keys[0:10])\n",
    "top_10_letter_words = []\n",
    "\n",
    "for i in future_solutions:\n",
    "    is_best = all(x in top_10_letters for x in i)\n",
    "    if is_best:\n",
    "        top_10_letter_words.append(i)\n",
    "top_10_letter_words.sort()\n",
    "print(f\"There are {len(top_10_letter_words)} words containing only the top 10 letters.\")"
   ]
  },
  {
   "cell_type": "code",
   "execution_count": 17,
   "metadata": {},
   "outputs": [
    {
     "name": "stdout",
     "output_type": "stream",
     "text": [
      "There are 71 words containing only the top 10 letters where each letter is different.\n"
     ]
    }
   ],
   "source": [
    "best_guesses_top_10_letters = []\n",
    "\n",
    "for i in top_10_letter_words:\n",
    "    num_uniq_letters = len(set(i))\n",
    "    if num_uniq_letters == 5:\n",
    "        best_guesses_top_10_letters.append(i)\n",
    "print(f\"There are {len(best_guesses_top_10_letters)} words \\\n",
    "containing only the top 10 letters where each letter is different.\")"
   ]
  },
  {
   "cell_type": "code",
   "execution_count": 18,
   "metadata": {},
   "outputs": [
    {
     "data": {
      "text/plain": [
       "['AISLE',\n",
       " 'ALERT',\n",
       " 'ALIEN',\n",
       " 'ALTER',\n",
       " 'ARISE',\n",
       " 'AROSE',\n",
       " 'ARSON',\n",
       " 'ATONE',\n",
       " 'INERT',\n",
       " 'INLET',\n",
       " 'INTER',\n",
       " 'INTRO',\n",
       " 'IRATE',\n",
       " 'LATER',\n",
       " 'LEANT',\n",
       " 'LEARN',\n",
       " 'LEAST',\n",
       " 'LINER',\n",
       " 'LOSER',\n",
       " 'LOUSE',\n",
       " 'LUNAR',\n",
       " 'NOISE',\n",
       " 'NURSE',\n",
       " 'ONSET',\n",
       " 'OUTER',\n",
       " 'RAISE',\n",
       " 'RATIO',\n",
       " 'RENAL',\n",
       " 'RESIN',\n",
       " 'RINSE',\n",
       " 'RISEN',\n",
       " 'ROAST',\n",
       " 'ROUSE',\n",
       " 'ROUTE',\n",
       " 'SAINT',\n",
       " 'SALON',\n",
       " 'SANER',\n",
       " 'SATIN',\n",
       " 'SIREN',\n",
       " 'SLAIN',\n",
       " 'SLANT',\n",
       " 'SLATE',\n",
       " 'SNAIL',\n",
       " 'SNARE',\n",
       " 'SNARL',\n",
       " 'SNORE',\n",
       " 'SNORT',\n",
       " 'SONAR',\n",
       " 'STAIN',\n",
       " 'STALE',\n",
       " 'STARE',\n",
       " 'STEAL',\n",
       " 'STEIN',\n",
       " 'STERN',\n",
       " 'STOLE',\n",
       " 'STONE',\n",
       " 'SUITE',\n",
       " 'TALON',\n",
       " 'TENOR',\n",
       " 'TONAL',\n",
       " 'TORUS',\n",
       " 'TRAIL',\n",
       " 'TRAIN',\n",
       " 'TRIAL',\n",
       " 'UNITE',\n",
       " 'UNLIT',\n",
       " 'UNSET',\n",
       " 'UNTIE',\n",
       " 'UNTIL',\n",
       " 'URINE',\n",
       " 'UTILE']"
      ]
     },
     "execution_count": 18,
     "metadata": {},
     "output_type": "execute_result"
    }
   ],
   "source": [
    "best_guesses_top_10_letters"
   ]
  },
  {
   "cell_type": "code",
   "execution_count": 19,
   "metadata": {},
   "outputs": [],
   "source": [
    "# Find all possible pairing combinations. There should be n * (n-1) / 2\n",
    "pairs = [(a, b) for idx, a in enumerate(best_guesses_top_10_letters) \n",
    "         for b in best_guesses_top_10_letters[idx + 1:]]"
   ]
  },
  {
   "cell_type": "code",
   "execution_count": 20,
   "metadata": {},
   "outputs": [
    {
     "data": {
      "text/plain": [
       "[('ALIEN', 'TORUS'),\n",
       " ('AROSE', 'UNLIT'),\n",
       " ('AROSE', 'UNTIL'),\n",
       " ('ARSON', 'UTILE'),\n",
       " ('LOUSE', 'TRAIN'),\n",
       " ('OUTER', 'SLAIN'),\n",
       " ('OUTER', 'SNAIL'),\n",
       " ('ROUTE', 'SLAIN'),\n",
       " ('ROUTE', 'SNAIL'),\n",
       " ('SONAR', 'UTILE')]"
      ]
     },
     "execution_count": 20,
     "metadata": {},
     "output_type": "execute_result"
    }
   ],
   "source": [
    "uniq_10_letter_pairs = []\n",
    "\n",
    "for p in pairs:\n",
    "    num_uniq_letters = len(set(p[0] + p[1]))\n",
    "    if num_uniq_letters == 10:\n",
    "        uniq_10_letter_pairs.append(p)\n",
    "\n",
    "uniq_10_letter_pairs"
   ]
  },
  {
   "cell_type": "markdown",
   "metadata": {},
   "source": [
    "## The above 10 pairs of words are good opening 1st and 2nd guesses that each use the top 10 letters by frequency"
   ]
  }
 ],
 "metadata": {
  "kernelspec": {
   "display_name": "Python 3",
   "language": "python",
   "name": "python3"
  },
  "language_info": {
   "codemirror_mode": {
    "name": "ipython",
    "version": 3
   },
   "file_extension": ".py",
   "mimetype": "text/x-python",
   "name": "python",
   "nbconvert_exporter": "python",
   "pygments_lexer": "ipython3",
   "version": "3.7.6"
  }
 },
 "nbformat": 4,
 "nbformat_minor": 4
}
