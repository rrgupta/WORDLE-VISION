{
 "cells": [
  {
   "cell_type": "markdown",
   "metadata": {},
   "source": [
    "# <font color='green'>WORDLE-VISION!</font>"
   ]
  },
  {
   "cell_type": "code",
   "execution_count": 1,
   "metadata": {},
   "outputs": [],
   "source": [
    "from urllib.request import urlopen\n",
    "from collections import Counter\n",
    "import numpy as np\n",
    "import seaborn as sns\n",
    "import matplotlib.pyplot as plt"
   ]
  },
  {
   "cell_type": "markdown",
   "metadata": {},
   "source": [
    "## Read in and filter lexicon"
   ]
  },
  {
   "cell_type": "code",
   "execution_count": 2,
   "metadata": {},
   "outputs": [],
   "source": [
    "url = 'https://raw.githubusercontent.com/dwyl/english-words/master/words_alpha.txt'\n",
    "file = urlopen(url)\n",
    "all_words = set(file.read().decode('utf-8').split())\n",
    "\n",
    "### Or if you have a word file already on your computer, you can read it in as follows:\n",
    "# local_file = 'words_alpha.txt'\n",
    "# with open(local_file) as word_file:\n",
    "#     all_words = set(word_file.read().split())"
   ]
  },
  {
   "cell_type": "code",
   "execution_count": 3,
   "metadata": {},
   "outputs": [
    {
     "name": "stdout",
     "output_type": "stream",
     "text": [
      "There are 15918 5-letter words in the lexicon.\n"
     ]
    },
    {
     "data": {
      "text/plain": [
       "['AMARA',\n",
       " 'AGATY',\n",
       " 'PSYCH',\n",
       " 'ALLIS',\n",
       " 'GRAIL',\n",
       " 'AXONS',\n",
       " 'GUTTY',\n",
       " 'RUPIA',\n",
       " 'GOMER',\n",
       " 'NIDOR']"
      ]
     },
     "execution_count": 3,
     "metadata": {},
     "output_type": "execute_result"
    }
   ],
   "source": [
    "# Keep only the 5-letter words\n",
    "wordle_words = [i.upper() for i in all_words if len(i) == 5]\n",
    "print(f\"There are {len(wordle_words)} 5-letter words in the lexicon.\")\n",
    "wordle_words[0:10]"
   ]
  },
  {
   "cell_type": "markdown",
   "metadata": {},
   "source": [
    "## Get frequency distribution of letters"
   ]
  },
  {
   "cell_type": "code",
   "execution_count": 4,
   "metadata": {},
   "outputs": [
    {
     "data": {
      "text/plain": [
       "Counter({'A': 8392,\n",
       "         'M': 2494,\n",
       "         'R': 5143,\n",
       "         'G': 1971,\n",
       "         'T': 4189,\n",
       "         'Y': 2521,\n",
       "         'P': 2299,\n",
       "         'S': 6537,\n",
       "         'C': 2744,\n",
       "         'H': 2284,\n",
       "         'L': 4246,\n",
       "         'I': 5067,\n",
       "         'X': 361,\n",
       "         'O': 5219,\n",
       "         'N': 4043,\n",
       "         'U': 3361,\n",
       "         'E': 7800,\n",
       "         'D': 2811,\n",
       "         'B': 2089,\n",
       "         'K': 1743,\n",
       "         'W': 1171,\n",
       "         'V': 878,\n",
       "         'Z': 474,\n",
       "         'F': 1238,\n",
       "         'J': 376,\n",
       "         'Q': 139})"
      ]
     },
     "execution_count": 4,
     "metadata": {},
     "output_type": "execute_result"
    }
   ],
   "source": [
    "cnt = Counter()\n",
    "for i in wordle_words:\n",
    "    cnt.update(Counter(i))\n",
    "cnt"
   ]
  },
  {
   "cell_type": "code",
   "execution_count": 5,
   "metadata": {},
   "outputs": [
    {
     "data": {
      "text/plain": [
       "{'A': 8392,\n",
       " 'E': 7800,\n",
       " 'S': 6537,\n",
       " 'O': 5219,\n",
       " 'R': 5143,\n",
       " 'I': 5067,\n",
       " 'L': 4246,\n",
       " 'T': 4189,\n",
       " 'N': 4043,\n",
       " 'U': 3361,\n",
       " 'D': 2811,\n",
       " 'C': 2744,\n",
       " 'Y': 2521,\n",
       " 'M': 2494,\n",
       " 'P': 2299,\n",
       " 'H': 2284,\n",
       " 'B': 2089,\n",
       " 'G': 1971,\n",
       " 'K': 1743,\n",
       " 'F': 1238,\n",
       " 'W': 1171,\n",
       " 'V': 878,\n",
       " 'Z': 474,\n",
       " 'J': 376,\n",
       " 'X': 361,\n",
       " 'Q': 139}"
      ]
     },
     "execution_count": 5,
     "metadata": {},
     "output_type": "execute_result"
    }
   ],
   "source": [
    "cnt_sorted = dict(cnt.most_common())\n",
    "cnt_sorted"
   ]
  },
  {
   "cell_type": "code",
   "execution_count": 6,
   "metadata": {},
   "outputs": [
    {
     "data": {
      "text/plain": [
       "{'A': 0.1054,\n",
       " 'E': 0.098,\n",
       " 'S': 0.0821,\n",
       " 'O': 0.0656,\n",
       " 'R': 0.0646,\n",
       " 'I': 0.0637,\n",
       " 'L': 0.0533,\n",
       " 'T': 0.0526,\n",
       " 'N': 0.0508,\n",
       " 'U': 0.0422,\n",
       " 'D': 0.0353,\n",
       " 'C': 0.0345,\n",
       " 'Y': 0.0317,\n",
       " 'M': 0.0313,\n",
       " 'P': 0.0289,\n",
       " 'H': 0.0287,\n",
       " 'B': 0.0262,\n",
       " 'G': 0.0248,\n",
       " 'K': 0.0219,\n",
       " 'F': 0.0156,\n",
       " 'W': 0.0147,\n",
       " 'V': 0.011,\n",
       " 'Z': 0.006,\n",
       " 'J': 0.0047,\n",
       " 'X': 0.0045,\n",
       " 'Q': 0.0017}"
      ]
     },
     "execution_count": 6,
     "metadata": {},
     "output_type": "execute_result"
    }
   ],
   "source": [
    "freq_sorted = {k: round(v / (5*len(wordle_words)), 4) for k, v in cnt_sorted.items()}\n",
    "freq_sorted"
   ]
  },
  {
   "cell_type": "code",
   "execution_count": 7,
   "metadata": {},
   "outputs": [
    {
     "data": {
      "image/png": "[encoded data removed]",
      "text/plain": [
       "<Figure size 720x288 with 1 Axes>"
      ]
     },
     "metadata": {
      "needs_background": "light"
     },
     "output_type": "display_data"
    }
   ],
   "source": [
    "sorted_keys = list(freq_sorted.keys())\n",
    "sorted_vals = list(freq_sorted.values())\n",
    "\n",
    "fig = plt.figure(figsize=(10, 4))\n",
    "sns.set(style='whitegrid')\n",
    "sns.barplot(x=sorted_keys, y=sorted_vals, color='tab:green')\n",
    "plt.ylabel('Frequency of Appearance')\n",
    "fig.savefig('letter_freq.png', dpi=200)"
   ]
  },
  {
   "cell_type": "code",
   "execution_count": 8,
   "metadata": {},
   "outputs": [
    {
     "data": {
      "image/png": "[encoded data removed]",
      "text/plain": [
       "<Figure size 720x360 with 1 Axes>"
      ]
     },
     "metadata": {},
     "output_type": "display_data"
    }
   ],
   "source": [
    "# The top 7 letters account for more than half of letters in all 5-letter words\n",
    "\n",
    "fig = plt.figure(figsize=(10, 5))\n",
    "sns.set(style='whitegrid')\n",
    "sns.barplot(x=sorted_keys, y=np.cumsum(sorted_vals), color='tab:green')\n",
    "plt.yticks(np.arange(0, 1.1, 0.1))\n",
    "plt.axhline(y=0.5, ls='--', lw=4, c='gold', alpha=0.75)\n",
    "plt.ylabel('Cumulative Frequency of Appearance')\n",
    "fig.savefig('letter_freq_cumulative.png', dpi=200)"
   ]
  },
  {
   "cell_type": "markdown",
   "metadata": {},
   "source": [
    "## Find words that contain only the top 7 letters\n",
    "### These will be the best starting guesses"
   ]
  },
  {
   "cell_type": "code",
   "execution_count": 9,
   "metadata": {
    "scrolled": true
   },
   "outputs": [
    {
     "name": "stdout",
     "output_type": "stream",
     "text": [
      "There are 231 words containing only the top 7 letters.\n"
     ]
    }
   ],
   "source": [
    "top_letters = ''.join(sorted_keys[0:7])\n",
    "top_letter_words = []\n",
    "\n",
    "for i in wordle_words:\n",
    "    is_best = all(x in top_letters for x in i)\n",
    "    if is_best:\n",
    "        top_letter_words.append(i)\n",
    "top_letter_words.sort()\n",
    "print(f\"There are {len(top_letter_words)} words containing only the top 7 letters.\")"
   ]
  },
  {
   "cell_type": "markdown",
   "metadata": {},
   "source": [
    "## We can further refine this by requiring that each letter be different"
   ]
  },
  {
   "cell_type": "code",
   "execution_count": 10,
   "metadata": {},
   "outputs": [
    {
     "name": "stdout",
     "output_type": "stream",
     "text": [
      "There are 60 words containing only the top 7 letters where each letter is different.\n"
     ]
    }
   ],
   "source": [
    "best_guesses = []\n",
    "\n",
    "for i in top_letter_words:\n",
    "    num_uniq_letters = len(set(i))\n",
    "    if num_uniq_letters == 5:\n",
    "        best_guesses.append(i)\n",
    "print(f\"There are {len(best_guesses)} words containing only the top 7 letters where each letter is different.\")"
   ]
  },
  {
   "cell_type": "code",
   "execution_count": 11,
   "metadata": {},
   "outputs": [
    {
     "data": {
      "text/plain": [
       "['AESIR',\n",
       " 'AISLE',\n",
       " 'ALISO',\n",
       " 'ALOES',\n",
       " 'ALOIS',\n",
       " 'ALOSE',\n",
       " 'ARIEL',\n",
       " 'ARIES',\n",
       " 'ARILS',\n",
       " 'ARISE',\n",
       " 'ARLES',\n",
       " 'AROSE',\n",
       " 'ARSLE',\n",
       " 'EARLS',\n",
       " 'ELIAS',\n",
       " 'IREOS',\n",
       " 'LAIRS',\n",
       " 'LARES',\n",
       " 'LASER',\n",
       " 'LEARS',\n",
       " 'LEORA',\n",
       " 'LIARS',\n",
       " 'LIERS',\n",
       " 'LIRAS',\n",
       " 'LORES',\n",
       " 'LORIS',\n",
       " 'LOSER',\n",
       " 'OILER',\n",
       " 'ORALE',\n",
       " 'ORALS',\n",
       " 'OREAS',\n",
       " 'ORIAS',\n",
       " 'ORIEL',\n",
       " 'ORLES',\n",
       " 'ORSEL',\n",
       " 'OSELA',\n",
       " 'OSIER',\n",
       " 'RAILS',\n",
       " 'RAISE',\n",
       " 'RALES',\n",
       " 'REALS',\n",
       " 'REOIL',\n",
       " 'RIALS',\n",
       " 'RIELS',\n",
       " 'RILES',\n",
       " 'ROILS',\n",
       " 'ROLES',\n",
       " 'ROSAL',\n",
       " 'ROSEL',\n",
       " 'SEORA',\n",
       " 'SERAI',\n",
       " 'SERAL',\n",
       " 'SERIO',\n",
       " 'SLARE',\n",
       " 'SLIER',\n",
       " 'SOLAR',\n",
       " 'SOLEA',\n",
       " 'SOLER',\n",
       " 'SORAL',\n",
       " 'SOREL']"
      ]
     },
     "execution_count": 11,
     "metadata": {},
     "output_type": "execute_result"
    }
   ],
   "source": [
    "best_guesses"
   ]
  },
  {
   "cell_type": "code",
   "execution_count": 12,
   "metadata": {},
   "outputs": [],
   "source": [
    "# Save list of words to text file\n",
    "outfile = open('best_guesses.txt', 'w')\n",
    "for i in best_guesses:\n",
    "    outfile.write(i + '\\n')\n",
    "outfile.close()"
   ]
  },
  {
   "cell_type": "markdown",
   "metadata": {},
   "source": [
    "## You can manually filter out the less common words above to get even better guesses"
   ]
  },
  {
   "cell_type": "code",
   "execution_count": null,
   "metadata": {},
   "outputs": [],
   "source": []
  }
 ],
 "metadata": {
  "kernelspec": {
   "display_name": "Python 3",
   "language": "python",
   "name": "python3"
  },
  "language_info": {
   "codemirror_mode": {
    "name": "ipython",
    "version": 3
   },
   "file_extension": ".py",
   "mimetype": "text/x-python",
   "name": "python",
   "nbconvert_exporter": "python",
   "pygments_lexer": "ipython3",
   "version": "3.7.6"
  }
 },
 "nbformat": 4,
 "nbformat_minor": 4
}
